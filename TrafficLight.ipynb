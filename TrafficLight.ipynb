{
 "cells": [
  {
   "cell_type": "code",
   "execution_count": 1,
   "metadata": {},
   "outputs": [
    {
     "name": "stdout",
     "output_type": "stream",
     "text": [
      "Time Slots:\n",
      "4\n",
      "3\n",
      "6\n",
      "7\n"
     ]
    },
    {
     "data": {
      "text/plain": [
       "<BarContainer object of 4 artists>"
      ]
     },
     "execution_count": 1,
     "metadata": {},
     "output_type": "execute_result"
    },
    {
     "data": {
      "image/png": "[encoded data removed]",
      "text/plain": [
       "<Figure size 432x288 with 1 Axes>"
      ]
     },
     "metadata": {
      "needs_background": "light"
     },
     "output_type": "display_data"
    }
   ],
   "source": [
    "#Given a list that contains vehicle/traffic density for each of the lanes in order\n",
    "#time slots are allotted, in order, that sum up to the baseTimer\n",
    "#plotted green light to the lane with least time\n",
    "import matplotlib.pyplot as plt\n",
    "\n",
    "list = [4, 3, 5, 6.0]\n",
    "nlanes = len(list)\n",
    "#print(\"Density Input: \", *list)\n",
    "baseTimer = 20 # baseTimer = int(input(\"Enter the base timer value\"))\n",
    "print(\"Time Slots:\")\n",
    "trafficlight = []\n",
    "for i in list:\n",
    "    t = round(i / sum(list) * baseTimer)\n",
    "    print(t)\n",
    "    trafficlight.append(t)\n",
    "    \n",
    "count = 0\n",
    "l=[]\n",
    "for i in range(nlanes):\n",
    "    if list[i] == min(list):\n",
    "        if count == 0:\n",
    "            l.append('g')\n",
    "            count += 1\n",
    "    else: l.append('r')\n",
    "\n",
    "\n",
    "if nlanes == 3:\n",
    "    lanes = ['lane1','lane2','lane3']\n",
    "    #trafficlight = [1, 1, 1]\n",
    "elif nlanes == 4:\n",
    "    lanes = ['lane1','lane2','lane3','lane4']\n",
    "    #trafficlight = [1, 1, 1, 1]\n",
    "plt.xlabel(\"Lanes\")\n",
    "plt.ylabel(\"Light Color\")\n",
    "plt.title(\"Traffic Signals\")\n",
    "plt.bar(lanes, trafficlight, color=l)"
   ]
  },
  {
   "cell_type": "code",
   "execution_count": null,
   "metadata": {},
   "outputs": [],
   "source": []
  }
 ],
 "metadata": {
  "kernelspec": {
   "display_name": "Python 3",
   "language": "python",
   "name": "python3"
  },
  "language_info": {
   "codemirror_mode": {
    "name": "ipython",
    "version": 3
   },
   "file_extension": ".py",
   "mimetype": "text/x-python",
   "name": "python",
   "nbconvert_exporter": "python",
   "pygments_lexer": "ipython3",
   "version": "3.8.5"
  }
 },
 "nbformat": 4,
 "nbformat_minor": 4
}
