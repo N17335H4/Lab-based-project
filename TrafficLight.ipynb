{
 "cells": [
  {
   "cell_type": "code",
   "execution_count": 30,
   "metadata": {},
   "outputs": [
    {
     "name": "stdout",
     "output_type": "stream",
     "text": [
      "Time Slots:\n",
      "56\n",
      "12\n",
      "20\n",
      "32\n"
     ]
    },
    {
     "data": {
      "text/plain": [
       "<BarContainer object of 4 artists>"
      ]
     },
     "execution_count": 30,
     "metadata": {},
     "output_type": "execute_result"
    },
    {
     "data": {
      "image/png": "[encoded data removed]",
      "text/plain": [
       "<Figure size 432x288 with 1 Axes>"
      ]
     },
     "metadata": {
      "needs_background": "light"
     },
     "output_type": "display_data"
    }
   ],
   "source": [
    "#Given a list that contains vehicle/traffic density for each of the lanes in order\n",
    "#time slots are allotted, in order, that sum up to the baseTimer\n",
    "#plotted intial signal timers\n",
    "import matplotlib.pyplot as plt\n",
    "\n",
    "list = [14, 3, 5, 8.0]\n",
    "nlanes = len(list)\n",
    "#print(\"Density Input: \", *list)\n",
    "baseTimer = 120 # baseTimer = int(input(\"Enter the base timer value\"))\n",
    "print(\"Time Slots:\")\n",
    "trafficlight = []\n",
    "for i in list:\n",
    "    t = round(i / sum(list) * baseTimer)\n",
    "    print(t)\n",
    "    trafficlight.append(t)\n",
    "l=[]\n",
    "l.append('g')\n",
    "for i in range(nlanes -1):\n",
    "    l.append('r')\n",
    "if nlanes == 3:\n",
    "    lanes = ['lane1','lane2','lane3']\n",
    "elif nlanes == 4:\n",
    "    lanes = ['lane1','lane2','lane3','lane4']\n",
    "tlzero = []\n",
    "tlzero.append(trafficlight[0])\n",
    "tlzero.append(trafficlight[0])\n",
    "tlzero.append(trafficlight[0] + trafficlight[1])\n",
    "if nlanes == 4:\n",
    "    tlzero.append(trafficlight[0] + trafficlight[1] + trafficlight[2])\n",
    "plt.xlabel(\"Lanes\")\n",
    "plt.ylabel(\"Light Color\")\n",
    "plt.title(\"Traffic Signals Initial TImers: \")\n",
    "plt.bar(lanes, tlzero, color=l)"
   ]
  },
  {
   "cell_type": "code",
   "execution_count": 31,
   "metadata": {},
   "outputs": [
    {
     "name": "stdout",
     "output_type": "stream",
     "text": [
      "After  56  seconds: \n"
     ]
    },
    {
     "data": {
      "text/plain": [
       "<BarContainer object of 4 artists>"
      ]
     },
     "execution_count": 31,
     "metadata": {},
     "output_type": "execute_result"
    },
    {
     "data": {
      "image/png": "[encoded data removed]",
      "text/plain": [
       "<Figure size 432x288 with 1 Axes>"
      ]
     },
     "metadata": {
      "needs_background": "light"
     },
     "output_type": "display_data"
    }
   ],
   "source": [
    "#plotted next signal timers\n",
    "lone=[]\n",
    "lone.append('r')\n",
    "lone.append('g')\n",
    "for i in range(nlanes -2):\n",
    "    lone.append('r')   \n",
    "count = trafficlight[0]\n",
    "tlone=[]\n",
    "tlone.append(baseTimer - count)\n",
    "tlone.append(trafficlight[1])\n",
    "tlone.append(trafficlight[1])\n",
    "if nlanes == 4:\n",
    "    tlone.append(trafficlight[2] + trafficlight[1])\n",
    "print(\"After \", count, \" seconds: \")\n",
    "plt.xlabel(\"Lanes\")\n",
    "plt.ylabel(\"Light Color\")\n",
    "plt.title(\"Traffic Signals\")\n",
    "plt.bar(lanes, tlone, color=lone)"
   ]
  },
  {
   "cell_type": "code",
   "execution_count": 32,
   "metadata": {},
   "outputs": [
    {
     "name": "stdout",
     "output_type": "stream",
     "text": [
      "After  68  seconds: \n"
     ]
    },
    {
     "data": {
      "text/plain": [
       "<BarContainer object of 4 artists>"
      ]
     },
     "execution_count": 32,
     "metadata": {},
     "output_type": "execute_result"
    },
    {
     "data": {
      "image/png": "[encoded data removed]",
      "text/plain": [
       "<Figure size 432x288 with 1 Axes>"
      ]
     },
     "metadata": {
      "needs_background": "light"
     },
     "output_type": "display_data"
    }
   ],
   "source": [
    "#plotted next signal timers\n",
    "ltwo=[]\n",
    "ltwo.append('r')\n",
    "ltwo.append('r')\n",
    "ltwo.append('g')\n",
    "if nlanes == 4:\n",
    "    ltwo.append('r')    \n",
    "count = trafficlight[0] + trafficlight[1]\n",
    "ttwo=[]\n",
    "ttwo.append(baseTimer - count)\n",
    "ttwo.append(baseTimer - trafficlight[1])\n",
    "ttwo.append(trafficlight[2])\n",
    "if nlanes == 4:\n",
    "    ttwo.append(trafficlight[2])\n",
    "print(\"After \", count, \" seconds: \")\n",
    "plt.xlabel(\"Lanes\")\n",
    "plt.ylabel(\"Light Color\")\n",
    "plt.title(\"Traffic Signals\")\n",
    "plt.bar(lanes, ttwo, color=ltwo)"
   ]
  },
  {
   "cell_type": "code",
   "execution_count": 33,
   "metadata": {},
   "outputs": [
    {
     "name": "stdout",
     "output_type": "stream",
     "text": [
      "After  88  seconds: \n"
     ]
    },
    {
     "data": {
      "image/png": "[encoded data removed]",
      "text/plain": [
       "<Figure size 432x288 with 1 Axes>"
      ]
     },
     "metadata": {
      "needs_background": "light"
     },
     "output_type": "display_data"
    }
   ],
   "source": [
    "#plotted next signal timers\n",
    "if nlanes == 4:\n",
    "    lth=[]\n",
    "    lth.append('r')\n",
    "    lth.append('r')\n",
    "    lth.append('r')\n",
    "    lth.append('g')\n",
    "    count = trafficlight[0] + trafficlight[1] + trafficlight[2]\n",
    "    tth=[]\n",
    "    tth.append(baseTimer - count)\n",
    "    tth.append(baseTimer - trafficlight[1] - trafficlight[2])\n",
    "    tth.append(baseTimer - trafficlight[2])\n",
    "    tth.append(trafficlight[3])\n",
    "    print(\"After \", count, \" seconds: \")\n",
    "    plt.xlabel(\"Lanes\")\n",
    "    plt.ylabel(\"Light Color\")\n",
    "    plt.title(\"Traffic Signals\")\n",
    "    plt.bar(lanes, tth, color=lth)"
   ]
  },
  {
   "cell_type": "code",
   "execution_count": null,
   "metadata": {},
   "outputs": [],
   "source": []
  }
 ],
 "metadata": {
  "kernelspec": {
   "display_name": "Python 3",
   "language": "python",
   "name": "python3"
  },
  "language_info": {
   "codemirror_mode": {
    "name": "ipython",
    "version": 3
   },
   "file_extension": ".py",
   "mimetype": "text/x-python",
   "name": "python",
   "nbconvert_exporter": "python",
   "pygments_lexer": "ipython3",
   "version": "3.8.5"
  }
 },
 "nbformat": 4,
 "nbformat_minor": 4
}
